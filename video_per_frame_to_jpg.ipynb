{
  "nbformat": 4,
  "nbformat_minor": 0,
  "metadata": {
    "colab": {
      "name": "video per frame to jpg.ipynb",
      "provenance": []
    },
    "kernelspec": {
      "name": "python3",
      "display_name": "Python 3"
    },
    "language_info": {
      "name": "python"
    },
    "accelerator": "GPU"
  },
  "cells": [
    {
      "cell_type": "code",
      "execution_count": 2,
      "metadata": {
        "id": "V-RYBCyellkh"
      },
      "outputs": [],
      "source": [
        "import cv2\n",
        " \n",
        "# Opens the inbuilt camera of laptop to capture video.\n",
        "cap = cv2.VideoCapture('/content/example.mp4')\n",
        "i = 0\n",
        " \n",
        "while(cap.isOpened()):\n",
        "    ret, frame = cap.read()\n",
        "     \n",
        "    # This condition prevents from infinite looping\n",
        "    # incase video ends.\n",
        "    if ret == False:\n",
        "        break\n",
        "     \n",
        "    # Save Frame by Frame into disk using imwrite method\n",
        "    cv2.imwrite('Frame'+str(i)+'.jpg', frame)\n",
        "    i += 1\n",
        " \n",
        "cap.release()\n",
        "cv2.destroyAllWindows()"
      ]
    }
  ]
}